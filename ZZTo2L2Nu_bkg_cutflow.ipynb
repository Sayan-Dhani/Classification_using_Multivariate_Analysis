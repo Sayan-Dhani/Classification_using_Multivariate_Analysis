{
 "cells": [
  {
   "cell_type": "code",
   "execution_count": 1,
   "id": "9487631d",
   "metadata": {},
   "outputs": [
    {
     "name": "stdout",
     "output_type": "stream",
     "text": [
      "Welcome to JupyROOT 6.28/04\n"
     ]
    }
   ],
   "source": [
    "import ROOT as root\n",
    "import time"
   ]
  },
  {
   "cell_type": "code",
   "execution_count": 2,
   "id": "bf73ee30",
   "metadata": {},
   "outputs": [
    {
     "data": {
      "text/plain": [
       "1"
      ]
     },
     "execution_count": 2,
     "metadata": {},
     "output_type": "execute_result"
    }
   ],
   "source": [
    "chain = root.TChain('tree')\n",
    "chain.Add('./bkg_tree2_ZZTo2L2Nu_s.root')"
   ]
  },
  {
   "cell_type": "code",
   "execution_count": 3,
   "id": "ce06a755",
   "metadata": {},
   "outputs": [
    {
     "name": "stdout",
     "output_type": "stream",
     "text": [
      "<class cppyy.gbl.TChain at 0x557d4a020840>\n",
      "\n",
      "Total no. of events :  1071295\n"
     ]
    }
   ],
   "source": [
    "print(type(chain))\n",
    "n = chain.GetEntries()\n",
    "print(\"\\nTotal no. of events : \",chain.GetEntries())"
   ]
  },
  {
   "cell_type": "code",
   "execution_count": 4,
   "id": "b5effe2d",
   "metadata": {},
   "outputs": [
    {
     "name": "stdout",
     "output_type": "stream",
     "text": [
      "dR\n",
      "dPhiMET_u1\n",
      "mass_uu\n",
      "MET_pt\n",
      "pTu1\n",
      "pTu2\n",
      "Nele\n",
      "Njet\n",
      "Nbjet\n",
      "Nmuon\n",
      "HpT_jet\n"
     ]
    }
   ],
   "source": [
    "import ROOT\n",
    "\n",
    "def print_leaves(tree):\n",
    "    for branch in tree.GetListOfBranches():\n",
    "        print(branch.GetName())\n",
    "\n",
    "# Open the ROOT file\n",
    "file = ROOT.TFile(\"bkg_tree2_ZZTo2L2Nu_s.root\")\n",
    "\n",
    "# Access the tree or chain\n",
    "tree = file.Get(\"tree\")\n",
    "\n",
    "# Print the leaves\n",
    "print_leaves(tree)\n",
    "\n",
    "# Close the file\n",
    "file.Close()"
   ]
  },
  {
   "cell_type": "code",
   "execution_count": 5,
   "id": "82c714c1",
   "metadata": {},
   "outputs": [],
   "source": [
    "cutflow_H  = root.TH1D('cutflow','Cut Flow Histogram', 7, -0.5, 6.5)"
   ]
  },
  {
   "cell_type": "code",
   "execution_count": 6,
   "id": "0a2cdd22",
   "metadata": {},
   "outputs": [],
   "source": [
    "cutflow_H.Reset()"
   ]
  },
  {
   "cell_type": "code",
   "execution_count": 7,
   "id": "f0949401",
   "metadata": {},
   "outputs": [],
   "source": [
    "def RootfileWrite():\n",
    "    f2 = root.TFile(\"CutFlow_bkg_ZZTo2L2Nu_s.root\", \"RECREATE\")\n",
    "    cutflow_H.Write()\n",
    "    f2.Write()\n",
    "    f2.Close()"
   ]
  },
  {
   "cell_type": "code",
   "execution_count": 8,
   "id": "dc7a8107",
   "metadata": {},
   "outputs": [
    {
     "name": "stdout",
     "output_type": "stream",
     "text": [
      "Processing:  100000 th event!\n",
      "Processing:  200000 th event!\n",
      "Processing:  300000 th event!\n",
      "Processing:  400000 th event!\n",
      "Processing:  500000 th event!\n",
      "Processing:  600000 th event!\n",
      "Processing:  700000 th event!\n",
      "Processing:  800000 th event!\n",
      "Processing:  900000 th event!\n",
      "Processing:  1000000 th event!\n",
      "Loop is completed\n",
      "10.979434967041016\n"
     ]
    }
   ],
   "source": [
    "start = time.time()    # note the starting time\n",
    "\n",
    "for i,ent in enumerate(chain):\n",
    "    \n",
    "#     if i>1000000: break;\n",
    "    if (i > 0 and i%100000 == 0): print(\"Processing: \", i, \"th event!\")\n",
    "    \n",
    "    cutflow_H.Fill(0)\n",
    "    \n",
    "    if ent.mass_uu < 70 or ent.mass_uu > 110:continue\n",
    "    cutflow_H.Fill(1)\n",
    "    \n",
    "    if ent.MET_pt  > 40:continue\n",
    "    cutflow_H.Fill(2)\n",
    "    \n",
    "    if ent.Nele    > 0:continue\n",
    "    cutflow_H.Fill(3)\n",
    "    \n",
    "    if ent.Nbjet    > 0:continue\n",
    "    cutflow_H.Fill(4)\n",
    "    \n",
    "    if ent.Njet   > 3:continue\n",
    "    cutflow_H.Fill(5)\n",
    "    \n",
    "    if ent.Njet < 3 and ent.HpT_jet >60:continue\n",
    "    cutflow_H.Fill(6)\n",
    "\n",
    "print (\"Loop is completed\")     # LOOP COMPLETTION MASSAGE\n",
    "end = time.time()   # Note the end time\n",
    "print(end-start)    # Show the time taken in seconds to rum the code\n",
    "RootfileWrite()"
   ]
  },
  {
   "cell_type": "code",
   "execution_count": 9,
   "id": "bc2c2fbc",
   "metadata": {},
   "outputs": [
    {
     "name": "stdout",
     "output_type": "stream",
     "text": [
      "Histogram Name: cutflow\n",
      "Entries: 3407636.0\n",
      "Mean: 1.8463315917545184\n",
      "Std Dev: 1.9513124665934476\n",
      "Underflow: 0.0\n",
      "Overflow: 0.0\n",
      "Integral: 3407636.0\n",
      "Skewness: 0.8729917078902293\n",
      "Kurtosis: -0.5669649110706803\n"
     ]
    },
    {
     "data": {
      "text/html": [
       "\n",
       "\n",
       "<div id=\"root_plot_1689450267129\"\n",
       "     style=\"width: 996px; height: 572px\">\n",
       "</div>\n",
       "<script>\n",
       "\n",
       "function display_root_plot_1689450267129(Core) {\n",
       "   let obj = Core.parse({\"_typename\":\"TCanvas\",\"fUniqueID\":0,\"fBits\":3342344,\"fLineColor\":1,\"fLineStyle\":1,\"fLineWidth\":1,\"fFillColor\":0,\"fFillStyle\":1001,\"fLeftMargin\":0.1,\"fRightMargin\":0.1,\"fBottomMargin\":0.1,\"fTopMargin\":0.1,\"fXfile\":2,\"fYfile\":2,\"fAfile\":1,\"fXstat\":0.99,\"fYstat\":0.99,\"fAstat\":2,\"fFrameFillColor\":0,\"fFrameLineColor\":1,\"fFrameFillStyle\":1001,\"fFrameLineStyle\":1,\"fFrameLineWidth\":1,\"fFrameBorderSize\":1,\"fFrameBorderMode\":0,\"fX1\":-1.37500006519258,\"fY1\":4.94504203189922,\"fX2\":7.37500006519258,\"fY2\":6.45883753733818,\"fXtoAbsPixelk\":156.51434080282,\"fXtoPixelk\":156.51434080282,\"fXtoPixel\":113.828569732393,\"fYtoAbsPixelk\":2440.52458457784,\"fYtoPixelk\":2440.52458457784,\"fYtoPixel\":-377.858170370334,\"fUtoAbsPixelk\":5e-5,\"fUtoPixelk\":5e-5,\"fUtoPixel\":996,\"fVtoAbsPixelk\":572.00005,\"fVtoPixelk\":572,\"fVtoPixel\":-572,\"fAbsPixeltoXk\":-1.37500006519258,\"fPixeltoXk\":-1.37500006519258,\"fPixeltoX\":0.0087851406931578,\"fAbsPixeltoYk\":6.45883753733818,\"fPixeltoYk\":4.94504203189922,\"fPixeltoY\":-0.0026464956388793,\"fXlowNDC\":0,\"fYlowNDC\":0,\"fXUpNDC\":1,\"fYUpNDC\":1,\"fWNDC\":1,\"fHNDC\":1,\"fAbsXlowNDC\":0,\"fAbsYlowNDC\":0,\"fAbsWNDC\":1,\"fAbsHNDC\":1,\"fUxmin\":-0.5,\"fUymin\":5.09642159146604,\"fUxmax\":6.5,\"fUymax\":6.30745797777136,\"fTheta\":30,\"fPhi\":30,\"fAspectRatio\":0,\"fNumber\":0,\"fTickx\":0,\"fTicky\":0,\"fLogx\":0,\"fLogy\":1,\"fLogz\":0,\"fPadPaint\":0,\"fCrosshair\":0,\"fCrosshairPos\":0,\"fBorderSize\":2,\"fBorderMode\":0,\"fModified\":false,\"fGridx\":true,\"fGridy\":true,\"fAbsCoord\":false,\"fEditable\":true,\"fFixedAspectRatio\":false,\"fPrimitives\":{\"_typename\":\"TList\",\"name\":\"TList\",\"arr\":[{\"_typename\":\"TFrame\",\"fUniqueID\":0,\"fBits\":8,\"fLineColor\":1,\"fLineStyle\":1,\"fLineWidth\":1,\"fFillColor\":0,\"fFillStyle\":1001,\"fX1\":-0.5,\"fY1\":5.09642159146604,\"fX2\":6.5,\"fY2\":6.30745797777136,\"fBorderSize\":1,\"fBorderMode\":0},{\"_typename\":\"TH1D\",\"fUniqueID\":0,\"fBits\":8,\"fName\":\"cutflow\",\"fTitle\":\"Cut Flow Histogram\",\"fLineColor\":602,\"fLineStyle\":1,\"fLineWidth\":1,\"fFillColor\":0,\"fFillStyle\":1001,\"fMarkerColor\":1,\"fMarkerStyle\":1,\"fMarkerSize\":1,\"fNcells\":9,\"fXaxis\":{\"_typename\":\"TAxis\",\"fUniqueID\":0,\"fBits\":0,\"fName\":\"xaxis\",\"fTitle\":\"Number of cuts\",\"fNdivisions\":510,\"fAxisColor\":1,\"fLabelColor\":1,\"fLabelFont\":42,\"fLabelOffset\":0.005,\"fLabelSize\":0.035,\"fTickLength\":0.03,\"fTitleOffset\":1,\"fTitleSize\":0.04,\"fTitleColor\":1,\"fTitleFont\":42,\"fNbins\":7,\"fXmin\":-0.5,\"fXmax\":6.5,\"fXbins\":[],\"fFirst\":0,\"fLast\":0,\"fBits2\":0,\"fTimeDisplay\":false,\"fTimeFormat\":\"\",\"fLabels\":null,\"fModLabs\":null},\"fYaxis\":{\"_typename\":\"TAxis\",\"fUniqueID\":0,\"fBits\":0,\"fName\":\"yaxis\",\"fTitle\":\"Event Number\",\"fNdivisions\":510,\"fAxisColor\":1,\"fLabelColor\":1,\"fLabelFont\":42,\"fLabelOffset\":0.005,\"fLabelSize\":0.035,\"fTickLength\":0.03,\"fTitleOffset\":0,\"fTitleSize\":0.04,\"fTitleColor\":1,\"fTitleFont\":42,\"fNbins\":1,\"fXmin\":0,\"fXmax\":1,\"fXbins\":[],\"fFirst\":0,\"fLast\":0,\"fBits2\":0,\"fTimeDisplay\":false,\"fTimeFormat\":\"\",\"fLabels\":null,\"fModLabs\":null},\"fZaxis\":{\"_typename\":\"TAxis\",\"fUniqueID\":0,\"fBits\":0,\"fName\":\"zaxis\",\"fTitle\":\"\",\"fNdivisions\":510,\"fAxisColor\":1,\"fLabelColor\":1,\"fLabelFont\":42,\"fLabelOffset\":0.005,\"fLabelSize\":0.035,\"fTickLength\":0.03,\"fTitleOffset\":1,\"fTitleSize\":0.035,\"fTitleColor\":1,\"fTitleFont\":42,\"fNbins\":1,\"fXmin\":0,\"fXmax\":1,\"fXbins\":[],\"fFirst\":0,\"fLast\":0,\"fBits2\":0,\"fTimeDisplay\":false,\"fTimeFormat\":\"\",\"fLabels\":null,\"fModLabs\":null},\"fBarOffset\":0,\"fBarWidth\":1000,\"fEntries\":3407636,\"fTsumw\":3407636,\"fTsumw2\":3407636,\"fTsumwx\":6291626,\"fTsumwx2\":24591412,\"fMaximum\":-1111,\"fMinimum\":-1111,\"fNormFactor\":0,\"fContour\":[],\"fSumw2\":[],\"fOption\":\"\",\"fFunctions\":{\"_typename\":\"TList\",\"name\":\"TList\",\"arr\":[{\"_typename\":\"TPaveStats\",\"fUniqueID\":0,\"fBits\":9,\"fLineColor\":1,\"fLineStyle\":1,\"fLineWidth\":1,\"fFillColor\":0,\"fFillStyle\":1001,\"fX1\":5.45000017732382,\"fY1\":6.11823355763734,\"fX2\":7.20000022947789,\"fY2\":6.36044083309381,\"fX1NDC\":0.780000016093254,\"fY1NDC\":0.775000005960464,\"fX2NDC\":0.980000019073486,\"fY2NDC\":0.935000002384186,\"fBorderSize\":1,\"fInit\":1,\"fShadowColor\":1,\"fCornerRadius\":0,\"fOption\":\"brNDC\",\"fName\":\"stats\",\"fTextAngle\":0,\"fTextSize\":0,\"fTextAlign\":12,\"fTextColor\":1,\"fTextFont\":42,\"fLabel\":\"\",\"fLongest\":18,\"fMargin\":0.05,\"fLines\":{\"_typename\":\"TList\",\"name\":\"TList\",\"arr\":[{\"_typename\":\"TLatex\",\"fUniqueID\":0,\"fBits\":0,\"fName\":\"\",\"fTitle\":\"cutflow\",\"fTextAngle\":0,\"fTextSize\":0.0368,\"fTextAlign\":0,\"fTextColor\":0,\"fTextFont\":0,\"fX\":0,\"fY\":0,\"fLineColor\":1,\"fLineStyle\":1,\"fLineWidth\":2,\"fLimitFactorSize\":3,\"fOriginSize\":0.0368000008165836},{\"_typename\":\"TLatex\",\"fUniqueID\":0,\"fBits\":0,\"fName\":\"\",\"fTitle\":\"Entries = 3407636\",\"fTextAngle\":0,\"fTextSize\":0,\"fTextAlign\":0,\"fTextColor\":0,\"fTextFont\":0,\"fX\":0,\"fY\":0,\"fLineColor\":1,\"fLineStyle\":1,\"fLineWidth\":2,\"fLimitFactorSize\":3,\"fOriginSize\":0.04},{\"_typename\":\"TLatex\",\"fUniqueID\":0,\"fBits\":0,\"fName\":\"\",\"fTitle\":\"Mean  =  1.846\",\"fTextAngle\":0,\"fTextSize\":0,\"fTextAlign\":0,\"fTextColor\":0,\"fTextFont\":0,\"fX\":0,\"fY\":0,\"fLineColor\":1,\"fLineStyle\":1,\"fLineWidth\":2,\"fLimitFactorSize\":3,\"fOriginSize\":0.04},{\"_typename\":\"TLatex\",\"fUniqueID\":0,\"fBits\":0,\"fName\":\"\",\"fTitle\":\"Std Dev   =  1.951\",\"fTextAngle\":0,\"fTextSize\":0,\"fTextAlign\":0,\"fTextColor\":0,\"fTextFont\":0,\"fX\":0,\"fY\":0,\"fLineColor\":1,\"fLineStyle\":1,\"fLineWidth\":2,\"fLimitFactorSize\":3,\"fOriginSize\":0.04}],\"opt\":[\"\",\"\",\"\",\"\"]},\"fOptFit\":0,\"fOptStat\":1111,\"fFitFormat\":\"5.4g\",\"fStatFormat\":\"6.4g\",\"fParent\":{\"$ref\":3}}],\"opt\":[\"brNDC\"]},\"fBufferSize\":0,\"fBuffer\":[],\"fBinStatErrOpt\":0,\"fStatOverflows\":2,\"fArray\":{\"$arr\":\"Float64\",\"len\":9,\"p\":1,\"v\":[1071295,1000268,274016,273424,269830,269084,249719]}},{\"_typename\":\"TPaveText\",\"fUniqueID\":0,\"fBits\":9,\"fLineColor\":1,\"fLineStyle\":1,\"fLineWidth\":1,\"fFillColor\":0,\"fFillStyle\":0,\"fX1\":1.80117970101169,\"fY1\":6.35917051879632,\"fX2\":4.19882029898831,\"fY2\":6.45126856702932,\"fX1NDC\":0.362991967871486,\"fY1NDC\":0.934160843929211,\"fX2NDC\":0.637008032128514,\"fY2NDC\":0.995000004768372,\"fBorderSize\":0,\"fInit\":1,\"fShadowColor\":1,\"fCornerRadius\":0,\"fOption\":\"blNDC\",\"fName\":\"title\",\"fTextAngle\":0,\"fTextSize\":0,\"fTextAlign\":22,\"fTextColor\":1,\"fTextFont\":42,\"fLabel\":\"\",\"fLongest\":18,\"fMargin\":0.05,\"fLines\":{\"_typename\":\"TList\",\"name\":\"TList\",\"arr\":[{\"_typename\":\"TLatex\",\"fUniqueID\":0,\"fBits\":0,\"fName\":\"\",\"fTitle\":\"Cut Flow Histogram\",\"fTextAngle\":0,\"fTextSize\":0,\"fTextAlign\":0,\"fTextColor\":0,\"fTextFont\":0,\"fX\":0,\"fY\":0,\"fLineColor\":1,\"fLineStyle\":1,\"fLineWidth\":2,\"fLimitFactorSize\":3,\"fOriginSize\":0.0517132878303528}],\"opt\":[\"\"]}},{\"_typename\":\"TStyle\",\"fUniqueID\":0,\"fBits\":0,\"fName\":\"Modern\",\"fTitle\":\"Modern Style\",\"fLineColor\":1,\"fLineStyle\":1,\"fLineWidth\":1,\"fFillColor\":19,\"fFillStyle\":1001,\"fMarkerColor\":1,\"fMarkerStyle\":1,\"fMarkerSize\":1,\"fTextAngle\":0,\"fTextSize\":0.05,\"fTextAlign\":11,\"fTextColor\":1,\"fTextFont\":42,\"fXaxis\":{\"_typename\":\"TAttAxis\",\"fNdivisions\":510,\"fAxisColor\":1,\"fLabelColor\":1,\"fLabelFont\":42,\"fLabelOffset\":0.005,\"fLabelSize\":0.035,\"fTickLength\":0.03,\"fTitleOffset\":1,\"fTitleSize\":0.035,\"fTitleColor\":1,\"fTitleFont\":42},\"fYaxis\":{\"_typename\":\"TAttAxis\",\"fNdivisions\":510,\"fAxisColor\":1,\"fLabelColor\":1,\"fLabelFont\":42,\"fLabelOffset\":0.005,\"fLabelSize\":0.035,\"fTickLength\":0.03,\"fTitleOffset\":0,\"fTitleSize\":0.035,\"fTitleColor\":1,\"fTitleFont\":42},\"fZaxis\":{\"_typename\":\"TAttAxis\",\"fNdivisions\":510,\"fAxisColor\":1,\"fLabelColor\":1,\"fLabelFont\":42,\"fLabelOffset\":0.005,\"fLabelSize\":0.035,\"fTickLength\":0.03,\"fTitleOffset\":1,\"fTitleSize\":0.035,\"fTitleColor\":1,\"fTitleFont\":42},\"fBarWidth\":1,\"fBarOffset\":0,\"fColorModelPS\":0,\"fDrawBorder\":0,\"fOptLogx\":0,\"fOptLogy\":0,\"fOptLogz\":0,\"fOptDate\":0,\"fOptStat\":1,\"fOptTitle\":1,\"fOptFile\":0,\"fOptFit\":0,\"fShowEventStatus\":0,\"fShowEditor\":0,\"fShowToolBar\":0,\"fNumberContours\":20,\"fAttDate\":{\"_typename\":\"TAttText\",\"fTextAngle\":0,\"fTextSize\":0.025,\"fTextAlign\":11,\"fTextColor\":1,\"fTextFont\":62},\"fDateX\":0.01,\"fDateY\":0.01,\"fEndErrorSize\":2,\"fErrorX\":0.5,\"fFuncColor\":2,\"fFuncStyle\":1,\"fFuncWidth\":2,\"fGridColor\":0,\"fGridStyle\":3,\"fGridWidth\":1,\"fLegendBorderSize\":1,\"fLegendFillColor\":0,\"fLegendFont\":42,\"fLegendTextSize\":0,\"fHatchesLineWidth\":1,\"fHatchesSpacing\":1,\"fFrameFillColor\":0,\"fFrameLineColor\":1,\"fFrameFillStyle\":1001,\"fFrameLineStyle\":1,\"fFrameLineWidth\":1,\"fFrameBorderSize\":1,\"fFrameBorderMode\":0,\"fHistFillColor\":0,\"fHistLineColor\":602,\"fHistFillStyle\":1001,\"fHistLineStyle\":1,\"fHistLineWidth\":1,\"fHistMinimumZero\":false,\"fHistTopMargin\":0.05,\"fCanvasPreferGL\":false,\"fCanvasColor\":0,\"fCanvasBorderSize\":2,\"fCanvasBorderMode\":0,\"fCanvasDefH\":500,\"fCanvasDefW\":700,\"fCanvasDefX\":10,\"fCanvasDefY\":10,\"fPadColor\":0,\"fPadBorderSize\":2,\"fPadBorderMode\":0,\"fPadBottomMargin\":0.1,\"fPadTopMargin\":0.1,\"fPadLeftMargin\":0.1,\"fPadRightMargin\":0.1,\"fPadGridX\":false,\"fPadGridY\":false,\"fPadTickX\":0,\"fPadTickY\":0,\"fPaperSizeX\":20,\"fPaperSizeY\":26,\"fScreenFactor\":1,\"fStatColor\":0,\"fStatTextColor\":1,\"fStatBorderSize\":1,\"fStatFont\":42,\"fStatFontSize\":0,\"fStatStyle\":1001,\"fStatFormat\":\"6.4g\",\"fStatX\":0.98,\"fStatY\":0.935,\"fStatW\":0.2,\"fStatH\":0.16,\"fStripDecimals\":true,\"fTitleAlign\":23,\"fTitleColor\":0,\"fTitleTextColor\":1,\"fTitleBorderSize\":0,\"fTitleFont\":42,\"fTitleFontSize\":0.05,\"fTitleStyle\":0,\"fTitleX\":0.5,\"fTitleY\":0.995,\"fTitleW\":0,\"fTitleH\":0,\"fLegoInnerR\":0.5,\"fLineStyles\":[\"\",\"  \",\" 12 12\",\" 4 8\",\" 12 16 4 16\",\" 20 12 4 12\",\" 20 12 4 12 4 12 4 12\",\" 20 20\",\" 20 12 4 12 4 12\",\" 80 20\",\" 80 40 4 40\",\"  \",\"  \",\"  \",\"  \",\"  \",\"  \",\"  \",\"  \",\"  \",\"  \",\"  \",\"  \",\"  \",\"  \",\"  \",\"  \",\"  \",\"  \",\"  \"],\"fHeaderPS\":\"\",\"fTitlePS\":\"\",\"fFitFormat\":\"5.4g\",\"fPaintTextFormat\":\"g\",\"fLineScalePS\":3,\"fJoinLinePS\":0,\"fCapLinePS\":0,\"fTimeOffset\":788918400,\"fImageScaling\":1}],\"opt\":[\"\",\"\",\"blNDC\",\"\"]},\"fExecs\":null,\"fName\":\"c1\",\"fTitle\":\"c1\",\"fNumPaletteColor\":0,\"fNextPaletteColor\":0,\"fDISPLAY\":\"$DISPLAY\",\"fDoubleBuffer\":0,\"fRetained\":true,\"fXsizeUser\":0,\"fYsizeUser\":0,\"fXsizeReal\":20,\"fYsizeReal\":12,\"fWindowTopX\":0,\"fWindowTopY\":0,\"fWindowWidth\":0,\"fWindowHeight\":0,\"fCw\":996,\"fCh\":572,\"fCatt\":{\"_typename\":\"TAttCanvas\",\"fXBetween\":2,\"fYBetween\":2,\"fTitleFromTop\":1.2,\"fXdate\":0.2,\"fYdate\":0.3,\"fAdate\":1},\"kMoveOpaque\":true,\"kResizeOpaque\":true,\"fHighLightColor\":2,\"fBatch\":true,\"kShowEventStatus\":false,\"kAutoExec\":true,\"kMenuBar\":true});\n",
       "   Core.settings.HandleKeys = false;\n",
       "   Core.draw(\"root_plot_1689450267129\", obj, \"\");\n",
       "}\n",
       "\n",
       "function script_load_root_plot_1689450267129(src, on_error) {\n",
       "    let script = document.createElement('script');\n",
       "    script.src = src;\n",
       "    script.onload = function() { display_root_plot_1689450267129(JSROOT); };\n",
       "    script.onerror = function() { script.remove(); on_error(); };\n",
       "    document.head.appendChild(script);\n",
       "}\n",
       "\n",
       "if (typeof requirejs !== 'undefined') {\n",
       "\n",
       "    // We are in jupyter notebooks, use require.js which should be configured already\n",
       "    requirejs.config({\n",
       "       paths: { 'JSRootCore' : [ 'build/jsroot', 'https://root.cern/js/7.2.1/build/jsroot', 'https://jsroot.gsi.de/7.2.1/build/jsroot' ] }\n",
       "    })(['JSRootCore'],  function(Core) {\n",
       "       display_root_plot_1689450267129(Core);\n",
       "    });\n",
       "\n",
       "} else if (typeof JSROOT !== 'undefined') {\n",
       "\n",
       "   // JSROOT already loaded, just use it\n",
       "   display_root_plot_1689450267129(JSROOT);\n",
       "\n",
       "} else {\n",
       "\n",
       "    // We are in jupyterlab without require.js, directly loading jsroot\n",
       "    // Jupyterlab might be installed in a different base_url so we need to know it.\n",
       "    try {\n",
       "        var base_url = JSON.parse(document.getElementById('jupyter-config-data').innerHTML).baseUrl;\n",
       "    } catch(_) {\n",
       "        var base_url = '/';\n",
       "    }\n",
       "\n",
       "    // Try loading a local version of requirejs and fallback to cdn if not possible.\n",
       "    script_load_root_plot_1689450267129(base_url + 'static/build/jsroot.js', function(){\n",
       "        console.error('Fail to load JSROOT locally, please check your jupyter_notebook_config.py file');\n",
       "        script_load_root_plot_1689450267129('https://root.cern/js/7.2.1/build/jsroot.js', function(){\n",
       "            document.getElementById(\"root_plot_1689450267129\").innerHTML = \"Failed to load JSROOT\";\n",
       "        });\n",
       "    });\n",
       "}\n",
       "\n",
       "</script>\n"
      ],
      "text/plain": [
       "<IPython.core.display.HTML object>"
      ]
     },
     "metadata": {},
     "output_type": "display_data"
    }
   ],
   "source": [
    "# Draw the histogram\n",
    "%jsroot on\n",
    "root.gStyle.SetOptStat(1)\n",
    "root.gStyle.SetTextFont(42)\n",
    "\n",
    "c1 = root.TCanvas('c1', 'c1', 1000, 600)\n",
    "c1.SetLogy()\n",
    "c1.SetGrid()\n",
    "\n",
    "cutflow_H.GetXaxis().SetTitle(\"Number of cuts\")\n",
    "cutflow_H.GetYaxis().SetTitle(\"Event Number\")\n",
    "\n",
    "cutflow_H.GetXaxis().SetTitleSize(0.04)\n",
    "cutflow_H.GetYaxis().SetTitleSize(0.04)\n",
    "cutflow_H.Draw()\n",
    "\n",
    "c1.Draw()\n",
    "\n",
    "# Print histogram statistics\n",
    "hist_name = cutflow_H.GetName()\n",
    "entries = cutflow_H.GetEntries()\n",
    "mean = cutflow_H.GetMean()\n",
    "std_dev = cutflow_H.GetStdDev()\n",
    "underflow = cutflow_H.GetBinContent(0)\n",
    "overflow = cutflow_H.GetBinContent(cutflow_H.GetNbinsX() + 1)\n",
    "integral = cutflow_H.Integral()\n",
    "skewness = cutflow_H.GetSkewness()\n",
    "kurtosis = cutflow_H.GetKurtosis()\n",
    "\n",
    "print(\"Histogram Name:\", hist_name)\n",
    "print(\"Entries:\", entries)\n",
    "print(\"Mean:\", mean)\n",
    "print(\"Std Dev:\", std_dev)\n",
    "print(\"Underflow:\", underflow)\n",
    "print(\"Overflow:\", overflow)\n",
    "print(\"Integral:\", integral)\n",
    "print(\"Skewness:\", skewness)\n",
    "print(\"Kurtosis:\", kurtosis)\n"
   ]
  },
  {
   "cell_type": "code",
   "execution_count": 10,
   "id": "d4332d88",
   "metadata": {
    "scrolled": true
   },
   "outputs": [
    {
     "name": "stdout",
     "output_type": "stream",
     "text": [
      "Number of bins:  7\n",
      "\t Bin Content\tBin Error\tBin centers\tBin widths\tEdge_low\tEdge_high\tCut_Effi(%)\n",
      "Bin  1 :  1071295.0 \t 1035.034 \t 0.0 \t\t 1.0 \t\t -0.5 \t\t 0.5 \t\t 100.0\n",
      "Bin  2 :  1000268.0 \t 1000.134 \t 1.0 \t\t 1.0 \t\t 0.5 \t\t 1.5 \t\t 93.37\n",
      "Bin  3 :  274016.0 \t 523.465 \t 2.0 \t\t 1.0 \t\t 1.5 \t\t 2.5 \t\t 25.578\n",
      "Bin  4 :  273424.0 \t 522.9 \t 3.0 \t\t 1.0 \t\t 2.5 \t\t 3.5 \t\t 25.523\n",
      "Bin  5 :  269830.0 \t 519.452 \t 4.0 \t\t 1.0 \t\t 3.5 \t\t 4.5 \t\t 25.187\n",
      "Bin  6 :  269084.0 \t 518.733 \t 5.0 \t\t 1.0 \t\t 4.5 \t\t 5.5 \t\t 25.118\n",
      "Bin  7 :  249719.0 \t 499.719 \t 6.0 \t\t 1.0 \t\t 5.5 \t\t 6.5 \t\t 23.31\n"
     ]
    }
   ],
   "source": [
    "H = cutflow_H\n",
    "print(\"Number of bins: \",H.GetNbinsX())\n",
    "x_low = H.GetXaxis().GetXmin()\n",
    "x_high = H.GetXaxis().GetXmax()\n",
    "\n",
    "bin_indices    = [] \n",
    "bin_contents   = []\n",
    "bin_edges_low  = []\n",
    "bin_edges_high = []\n",
    "cut_effi_arr   = []\n",
    "Ndenominator   = H.GetBinContent(1)\n",
    "\n",
    "print(\"\\t\",\"Bin Content\\tBin Error\\tBin centers\\tBin widths\\tEdge_low\\tEdge_high\\tCut_Effi(%)\")\n",
    "for bin in range(1, H.GetNbinsX() + 1):\n",
    "    bin_indices.append(bin)\n",
    "    bin_content = H.GetBinContent(bin)\n",
    "    cut_effi = round((bin_content*100/Ndenominator),3)\n",
    "    cut_effi_arr.append(cut_effi)\n",
    "    bin_contents.append(bin_content)\n",
    "    bin_error = round(H.GetBinError(bin),3)\n",
    "    bin_centers = round(H.GetXaxis().GetBinCenter(bin),3)\n",
    "    bin_widths = H.GetXaxis().GetBinWidth(bin)\n",
    "    edge_low = round(H.GetXaxis().GetBinLowEdge(bin),3)\n",
    "    bin_edges_low.append(edge_low)\n",
    "    edge_up = round(H.GetXaxis().GetBinLowEdge(bin+1),3)\n",
    "    bin_edges_high.append(edge_up)\n",
    "    \n",
    "    print(\"Bin \",bin,\": \",bin_content,\"\\t\",bin_error,\"\\t\",bin_centers,\"\\t\\t\",bin_widths,\"\\t\\t\",edge_low,\"\\t\\t\",edge_up,\"\\t\\t\",cut_effi)"
   ]
  },
  {
   "cell_type": "code",
   "execution_count": null,
   "id": "c85c3e3d",
   "metadata": {},
   "outputs": [],
   "source": []
  },
  {
   "cell_type": "code",
   "execution_count": null,
   "id": "dfb03dc8",
   "metadata": {},
   "outputs": [],
   "source": []
  },
  {
   "cell_type": "code",
   "execution_count": null,
   "id": "e3cb1922",
   "metadata": {},
   "outputs": [],
   "source": []
  }
 ],
 "metadata": {
  "kernelspec": {
   "display_name": "Python 3 (ipykernel)",
   "language": "python",
   "name": "python3"
  },
  "language_info": {
   "codemirror_mode": {
    "name": "ipython",
    "version": 3
   },
   "file_extension": ".py",
   "mimetype": "text/x-python",
   "name": "python",
   "nbconvert_exporter": "python",
   "pygments_lexer": "ipython3",
   "version": "3.10.6"
  }
 },
 "nbformat": 4,
 "nbformat_minor": 5
}
